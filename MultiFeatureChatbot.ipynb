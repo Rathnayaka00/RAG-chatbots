{
  "nbformat": 4,
  "nbformat_minor": 0,
  "metadata": {
    "colab": {
      "provenance": [],
      "gpuType": "T4"
    },
    "kernelspec": {
      "name": "python3",
      "display_name": "Python 3"
    },
    "language_info": {
      "name": "python"
    },
    "accelerator": "GPU"
  },
  "cells": [
    {
      "cell_type": "code",
      "execution_count": null,
      "metadata": {
        "colab": {
          "base_uri": "https://localhost:8080/"
        },
        "id": "ifEzlQNfq98H",
        "outputId": "d4265e0e-7a79-412d-ee51-2394c9f52a28"
      },
      "outputs": [
        {
          "output_type": "stream",
          "name": "stdout",
          "text": [
            "\u001b[?25l   \u001b[90m━━━━━━━━━━━━━━━━━━━━━━━━━━━━━━━━━━━━━━━━\u001b[0m \u001b[32m0.0/50.7 kB\u001b[0m \u001b[31m?\u001b[0m eta \u001b[36m-:--:--\u001b[0m\r\u001b[2K   \u001b[90m━━━━━━━━━━━━━━━━━━━━━━━━━━━━━━━━━━━━━━━━\u001b[0m \u001b[32m50.7/50.7 kB\u001b[0m \u001b[31m3.3 MB/s\u001b[0m eta \u001b[36m0:00:00\u001b[0m\n",
            "\u001b[?25h\u001b[?25l   \u001b[90m━━━━━━━━━━━━━━━━━━━━━━━━━━━━━━━━━━━━━━━━\u001b[0m \u001b[32m0.0/390.3 kB\u001b[0m \u001b[31m?\u001b[0m eta \u001b[36m-:--:--\u001b[0m\r\u001b[2K   \u001b[90m━━━━━━━━━━━━━━━━━━━━━━━━━━━━━━━━━━━━━━━━\u001b[0m \u001b[32m390.3/390.3 kB\u001b[0m \u001b[31m12.2 MB/s\u001b[0m eta \u001b[36m0:00:00\u001b[0m\n",
            "\u001b[2K   \u001b[90m━━━━━━━━━━━━━━━━━━━━━━━━━━━━━━━━━━━━━━━━\u001b[0m \u001b[32m1.2/1.2 MB\u001b[0m \u001b[31m41.0 MB/s\u001b[0m eta \u001b[36m0:00:00\u001b[0m\n",
            "\u001b[2K   \u001b[90m━━━━━━━━━━━━━━━━━━━━━━━━━━━━━━━━━━━━━━━━\u001b[0m \u001b[32m2.5/2.5 MB\u001b[0m \u001b[31m55.7 MB/s\u001b[0m eta \u001b[36m0:00:00\u001b[0m\n",
            "\u001b[2K   \u001b[90m━━━━━━━━━━━━━━━━━━━━━━━━━━━━━━━━━━━━━━━━\u001b[0m \u001b[32m49.5/49.5 kB\u001b[0m \u001b[31m4.1 MB/s\u001b[0m eta \u001b[36m0:00:00\u001b[0m\n",
            "\u001b[2K   \u001b[90m━━━━━━━━━━━━━━━━━━━━━━━━━━━━━━━━━━━━━━━━\u001b[0m \u001b[32m3.0/3.0 MB\u001b[0m \u001b[31m82.9 MB/s\u001b[0m eta \u001b[36m0:00:00\u001b[0m\n",
            "\u001b[2K   \u001b[90m━━━━━━━━━━━━━━━━━━━━━━━━━━━━━━━━━━━━━━━━\u001b[0m \u001b[32m4.5/4.5 MB\u001b[0m \u001b[31m71.6 MB/s\u001b[0m eta \u001b[36m0:00:00\u001b[0m\n",
            "\u001b[2K   \u001b[90m━━━━━━━━━━━━━━━━━━━━━━━━━━━━━━━━━━━━━━━━\u001b[0m \u001b[32m12.7/12.7 MB\u001b[0m \u001b[31m114.6 MB/s\u001b[0m eta \u001b[36m0:00:00\u001b[0m\n",
            "\u001b[?25h"
          ]
        }
      ],
      "source": [
        "!pip install langchain -qU\n",
        "!pip install langchain-openai -qU\n",
        "!pip install langchain-community -qU\n",
        "\n",
        "!pip install duckduckgo-search -qU\n",
        "!pip install pyowm -qU\n",
        "\n",
        "!pip install langchainhub -qU\n",
        "!pip install google-api-python-client -qU"
      ]
    },
    {
      "cell_type": "code",
      "source": [
        "import os\n",
        "from google.colab import userdata"
      ],
      "metadata": {
        "id": "l7sAD9zW2Ht0"
      },
      "execution_count": null,
      "outputs": []
    },
    {
      "cell_type": "markdown",
      "source": [
        "## **Initialize OpenAI LLM**"
      ],
      "metadata": {
        "id": "5y2Hn8bq2W2c"
      }
    },
    {
      "cell_type": "code",
      "source": [
        "from langchain_openai import ChatOpenAI\n",
        "\n",
        "os.environ['OPENAI_API_KEY'] = userdata.get('OPENAI_API_KEY')\n",
        "\n",
        "llm = ChatOpenAI(\n",
        "    model=\"gpt-3.5-turbo\",\n",
        "    temperature=0\n",
        ")"
      ],
      "metadata": {
        "id": "74c2QubS2Sb9"
      },
      "execution_count": null,
      "outputs": []
    },
    {
      "cell_type": "markdown",
      "source": [
        "## **Initialize DuckDuckGo Search Tool**"
      ],
      "metadata": {
        "id": "tTqOyX622axv"
      }
    },
    {
      "cell_type": "code",
      "source": [
        "from langchain_community.tools import DuckDuckGoSearchRun\n",
        "\n",
        "search_tool = DuckDuckGoSearchRun()\n",
        "\n",
        "search_tool"
      ],
      "metadata": {
        "colab": {
          "base_uri": "https://localhost:8080/"
        },
        "id": "l50730Va2VrE",
        "outputId": "d5ab56fd-de01-480c-bb72-6d2056d14282"
      },
      "execution_count": null,
      "outputs": [
        {
          "output_type": "execute_result",
          "data": {
            "text/plain": [
              "DuckDuckGoSearchRun(api_wrapper=DuckDuckGoSearchAPIWrapper(region='wt-wt', safesearch='moderate', time='y', max_results=5, backend='api', source='text'))"
            ]
          },
          "metadata": {},
          "execution_count": 4
        }
      ]
    },
    {
      "cell_type": "markdown",
      "source": [
        "## **Initialize OpenWeatherMap Tool**"
      ],
      "metadata": {
        "id": "oT0LLSk32smI"
      }
    },
    {
      "cell_type": "code",
      "source": [
        "from langchain_community.utilities import OpenWeatherMapAPIWrapper\n",
        "from langchain.agents import load_tools\n",
        "\n",
        "os.environ[\"OPENWEATHERMAP_API_KEY\"] = userdata.get('OPENWEATHERMAP_API_KEY')\n",
        "\n",
        "weather = OpenWeatherMapAPIWrapper()\n",
        "\n",
        "weather_tool = load_tools([\"openweathermap-api\"], llm)[0]\n",
        "\n",
        "weather_tool"
      ],
      "metadata": {
        "colab": {
          "base_uri": "https://localhost:8080/"
        },
        "id": "7Dt4wF-g2quP",
        "outputId": "0aad16d1-49d6-4609-fccc-ca288562f93f"
      },
      "execution_count": null,
      "outputs": [
        {
          "output_type": "execute_result",
          "data": {
            "text/plain": [
              "OpenWeatherMapQueryRun(api_wrapper=OpenWeatherMapAPIWrapper(owm=<pyowm.owm.OWM - API key=************************bd5c55c8, subscription type=free, PyOWM version=(3, 3, 0)>, openweathermap_api_key=None))"
            ]
          },
          "metadata": {},
          "execution_count": 5
        }
      ]
    },
    {
      "cell_type": "markdown",
      "source": [
        "## **Load Prompt Template from LangChainHub**"
      ],
      "metadata": {
        "id": "jvSdw4R-20pB"
      }
    },
    {
      "cell_type": "code",
      "source": [
        "from langchain import hub\n",
        "\n",
        "prompt = hub.pull(\"hwchase17/react\")\n",
        "\n",
        "print(prompt)"
      ],
      "metadata": {
        "colab": {
          "base_uri": "https://localhost:8080/"
        },
        "id": "t5njaRTz2xOZ",
        "outputId": "cf1c1133-ba95-4a18-add1-f018fa7b8515"
      },
      "execution_count": null,
      "outputs": [
        {
          "output_type": "stream",
          "name": "stderr",
          "text": [
            "/usr/local/lib/python3.10/dist-packages/langsmith/client.py:261: LangSmithMissingAPIKeyWarning: API key must be provided when using hosted LangSmith API\n",
            "  warnings.warn(\n"
          ]
        },
        {
          "output_type": "stream",
          "name": "stdout",
          "text": [
            "input_variables=['agent_scratchpad', 'input', 'tool_names', 'tools'] input_types={} partial_variables={} metadata={'lc_hub_owner': 'hwchase17', 'lc_hub_repo': 'react', 'lc_hub_commit_hash': 'd15fe3c426f1c4b3f37c9198853e4a86e20c425ca7f4752ec0c9b0e97ca7ea4d'} template='Answer the following questions as best you can. You have access to the following tools:\\n\\n{tools}\\n\\nUse the following format:\\n\\nQuestion: the input question you must answer\\nThought: you should always think about what to do\\nAction: the action to take, should be one of [{tool_names}]\\nAction Input: the input to the action\\nObservation: the result of the action\\n... (this Thought/Action/Action Input/Observation can repeat N times)\\nThought: I now know the final answer\\nFinal Answer: the final answer to the original input question\\n\\nBegin!\\n\\nQuestion: {input}\\nThought:{agent_scratchpad}'\n"
          ]
        }
      ]
    },
    {
      "cell_type": "markdown",
      "source": [
        "## **Create Built-in Agent**"
      ],
      "metadata": {
        "id": "R8KaUDQl4bY8"
      }
    },
    {
      "cell_type": "code",
      "source": [
        "from langchain.agents import create_react_agent\n",
        "\n",
        "# List of tools for the agent\n",
        "tools = [search_tool, weather_tool]\n",
        "\n",
        "# Create the agent using the LLM and the prompt template\n",
        "agent = create_react_agent(tools = tools, llm = llm, prompt=prompt)"
      ],
      "metadata": {
        "id": "FUN4dAq_4ghW"
      },
      "execution_count": null,
      "outputs": []
    },
    {
      "cell_type": "code",
      "source": [
        "from langchain.agents import AgentExecutor\n",
        "\n",
        "# Initialize the agent executor with the created agent and tools\n",
        "agent_executor = AgentExecutor(agent=agent, tools=tools, verbose=True, handle_parsing_errors=True)"
      ],
      "metadata": {
        "id": "IK37s50f4jFs"
      },
      "execution_count": null,
      "outputs": []
    },
    {
      "cell_type": "code",
      "source": [
        "\n",
        "response = agent_executor.invoke({\"input\": \"What's the weather in Kandy?\"})\n",
        "\n",
        "print(response['output'])"
      ],
      "metadata": {
        "colab": {
          "base_uri": "https://localhost:8080/"
        },
        "id": "SpYgYN8H4mBW",
        "outputId": "719c62eb-e6a2-44f1-f81a-3be038dcb857"
      },
      "execution_count": null,
      "outputs": [
        {
          "output_type": "stream",
          "name": "stdout",
          "text": [
            "\n",
            "\n",
            "\u001b[1m> Entering new AgentExecutor chain...\u001b[0m\n",
            "\u001b[32;1m\u001b[1;3mI should use the open_weather_map tool to get the current weather in Kandy.\n",
            "Action: open_weather_map\n",
            "Action Input: Kandy\u001b[0m\u001b[33;1m\u001b[1;3mIn Kandy, the current weather is as follows:\n",
            "Detailed status: overcast clouds\n",
            "Wind speed: 1.07 m/s, direction: 49°\n",
            "Humidity: 82%\n",
            "Temperature: \n",
            "  - Current: 25.27°C\n",
            "  - High: 25.27°C\n",
            "  - Low: 25.27°C\n",
            "  - Feels like: 25.99°C\n",
            "Rain: {}\n",
            "Heat index: None\n",
            "Cloud cover: 89%\u001b[0m\u001b[32;1m\u001b[1;3mI have the current weather information for Kandy.\n",
            "Final Answer: The current weather in Kandy is overcast clouds with a temperature of 25.27°C.\u001b[0m\n",
            "\n",
            "\u001b[1m> Finished chain.\u001b[0m\n",
            "The current weather in Kandy is overcast clouds with a temperature of 25.27°C.\n"
          ]
        }
      ]
    },
    {
      "cell_type": "code",
      "source": [
        "response = agent_executor.invoke({\"input\": \"what is machine learning?\"})\n",
        "\n",
        "print(response['output'])"
      ],
      "metadata": {
        "colab": {
          "base_uri": "https://localhost:8080/"
        },
        "id": "jtQ7InfN4pGS",
        "outputId": "3b2cd833-b2cb-4afa-d228-347e0dc9ad3c"
      },
      "execution_count": null,
      "outputs": [
        {
          "output_type": "stream",
          "name": "stdout",
          "text": [
            "\n",
            "\n",
            "\u001b[1m> Entering new AgentExecutor chain...\u001b[0m\n",
            "\u001b[32;1m\u001b[1;3mI should search for a definition of machine learning to provide an accurate answer.\n",
            "Action: duckduckgo_search\n",
            "Action Input: machine learning definition\u001b[0m\u001b[36;1m\u001b[1;3mLearn what machine learning is, how it works, and the different types of it powering the services and applications we rely on every day. Explore real-world examples, benefits and dangers, and beginner-friendly courses on Coursera. Machine learning is a branch of artificial intelligence that enables algorithms to learn from data and make predictions without explicit programming. Learn the difference between machine learning and traditional programming, the types of machine learning, the applications, and the limitations. Machine learning is a type of artificial intelligence that allows computers to learn without being explicitly programmed. Learn the concept, classification, examples, benefits and challenges of machine learning in this article. Machine learning is a method of data analysis that automates analytical model building. It is a branch of artificial intelligence based on the idea that systems can learn from data, identify patterns and make decisions with minimal human intervention. Learn more about its types, algorithms, applications, and challenges. Learn what machine learning is, how it works, and why it's important in 2023. Explore the types, applications, and career paths of this AI subfield with DataCamp.\u001b[0m\u001b[32;1m\u001b[1;3mI now have a good understanding of what machine learning is.\n",
            "Final Answer: Machine learning is a branch of artificial intelligence that enables algorithms to learn from data and make predictions without explicit programming.\u001b[0m\n",
            "\n",
            "\u001b[1m> Finished chain.\u001b[0m\n",
            "Machine learning is a branch of artificial intelligence that enables algorithms to learn from data and make predictions without explicit programming.\n"
          ]
        }
      ]
    },
    {
      "cell_type": "code",
      "source": [
        "response = agent_executor.invoke({\"input\": \"how many words count within introduction to machine learning?\"})\n",
        "\n",
        "print(response['output'])"
      ],
      "metadata": {
        "colab": {
          "base_uri": "https://localhost:8080/"
        },
        "id": "FOOqlmGg4sqe",
        "outputId": "e9cff352-4fc9-423b-f8f1-81b4bf62ce5f"
      },
      "execution_count": null,
      "outputs": [
        {
          "output_type": "stream",
          "name": "stdout",
          "text": [
            "\n",
            "\n",
            "\u001b[1m> Entering new AgentExecutor chain...\u001b[0m\n",
            "\u001b[32;1m\u001b[1;3mI should search for the introduction to machine learning to find out how many words it typically contains.\n",
            "Action: duckduckgo_search\n",
            "Action Input: introduction to machine learning word count\u001b[0m\u001b[36;1m\u001b[1;3mBag of Words just creates a set of vectors containing the count of word occurrences in the document (reviews), while the TF-IDF model contains information on the more important words and the less important ones as well. Bag of Words vectors are easy to interpret. However, TF-IDF usually performs better in machine learning models. Reinforcement Learning is a branch of Machine Learning, also called Online Learning. It is used to decide what action to take at t+1 based on data up to time t. This concept is used in Artificial Intelligence applications such as walking. A popular example of reinforcement learning is a chess engine Bag of words (BoW; also stylized as bag-of-words) is a feature extraction technique that models text data for processing in information retrieval and machine learning algorithms. More specifically, BoW models are an unstructured assortment of all the known words in a text document defined solely according to frequency while ignoring word order and context. 1 Bag of words is one of several ... Defining the Model. The input sequences are mapped to dense vectors of fixed size in the first layer, which is an embedding layer. It requires three arguments: input_length (the length of the input sequences less one because we are predicting the next word), 10 (the dimensionality of the embedding space), and total_words (the total number of unique words in the vocabulary). Machine learning is a broad and rapidly evolving field, full of specialized terminology. Here's a guide to 50 key machine learning terms, explained in simple language. 1. Algorithm. A step-by-step procedure or formula for solving a problem. In machine learning, algorithms are used to create models that can make predictions or decisions based ...\u001b[0m\u001b[32;1m\u001b[1;3mI need to focus on finding the specific word count for the introduction to machine learning.\n",
            "Action: duckduckgo_search\n",
            "Action Input: introduction to machine learning word count\u001b[0m\u001b[36;1m\u001b[1;3mMachine learning algorithms cannot work with raw text directly; the text must be converted into numbers. Specifically, vectors of numbers. This is where text vectorization come in. Bag of Words just creates a set of vectors containing the count of word occurrences in the document (reviews), while the TF-IDF model contains information on the more important words and the less important ones as well. Bag of Words vectors are easy to interpret. However, TF-IDF usually performs better in machine learning models. Given a string, the task is to count the number of words being repeated in that particular string in Golang. Example: Input: s = \"She is mother of my mother.\" Output: She = 1 is = 1 mother = 2 of = 1 my = 1 To count the number of repeating words, first, the string is taken as input and then strings. Reinforcement Learning is a branch of Machine Learning, also called Online Learning. It is used to decide what action to take at t+1 based on data up to time t. This concept is used in Artificial Intelligence applications such as walking. A popular example of reinforcement learning is a chess engine These statistics include basic metrics — such as word count and sentence length — along with various readability scores — including Flesch Reading Ease and Gunning Fog Index. ... and contributing editor at Machine Learning Mastery, Matthew aims to make complex data science concepts accessible. His professional interests include natural ...\u001b[0m\u001b[32;1m\u001b[1;3mI should try to find a more specific source that provides the word count for an introduction to machine learning.\n",
            "Action: duckduckgo_search\n",
            "Action Input: word count in introduction to machine learning\u001b[0m\u001b[36;1m\u001b[1;3mIn this article, we will explore the BoW model, its implementation, and how to perform frequency counts using Scikit-learn, a powerful machine-learning library in Python. What is the Bag of Words Model? The Bag of Words model is a simple and effective way of representing text data. It treats a text document as an unordered collection of words ... Introduction to Machine Learning in R The word Machine Learning was first coined by Arthur Samuel in 1959. The definition of machine learning can be defined as that machine learning gives computers the ability to learn without being explicitly programmed. Also in 1997, Tom Mitchell defined machine learning that \"A computer program is sa Bag of Words just creates a set of vectors containing the count of word occurrences in the document (reviews), while the TF-IDF model contains information on the more important words and the less important ones as well. Bag of Words vectors are easy to interpret. However, TF-IDF usually performs better in machine learning models. Word Count Problem. In this problem, we have to count the frequency of each word in the given large text files. In the map phase, the file is broken into sentences, and each sentence will split into tokens or words. after tokenization, the map converts it into a key values pair. and each key-value pair is known as an intermediate key-value pair. Machine Learning tutorial covers basic and advanced concepts, specially designed to cater to both students and experienced working professionals. Machine learning (ML) is a subdomain of artificial intelligence (AI) that focuses on developing systems that learn or improve performance, based on the data. Artificial intelligence is a broad word ...\u001b[0m\u001b[32;1m\u001b[1;3mI should try to find a more specific source that directly states the word count in an introduction to machine learning.\n",
            "Action: duckduckgo_search\n",
            "Action Input: introduction to machine learning word count\u001b[0m\u001b[36;1m\u001b[1;3mMachine learning algorithms cannot work with raw text directly; the text must be converted into numbers. Specifically, vectors of numbers. This is where text vectorization come in. Bag of Words just creates a set of vectors containing the count of word occurrences in the document (reviews), while the TF-IDF model contains information on the more important words and the less important ones as well. Bag of Words vectors are easy to interpret. However, TF-IDF usually performs better in machine learning models. Given a string, the task is to count the number of words being repeated in that particular string in Golang. Example: Input: s = \"She is mother of my mother.\" Output: She = 1 is = 1 mother = 2 of = 1 my = 1 To count the number of repeating words, first, the string is taken as input and then strings. DALL-E3. Welcome to this walk-through on of N-grams and Word Clouds, two powerful tools in Natural Language Processing (NLP) that offer insights into textual data. Reinforcement Learning is a branch of Machine Learning, also called Online Learning. It is used to decide what action to take at t+1 based on data up to time t. This concept is used in Artificial Intelligence applications such as walking. A popular example of reinforcement learning is a chess engine\u001b[0m\u001b[32;1m\u001b[1;3mI have searched extensively but could not find a specific word count for an introduction to machine learning.\n",
            "Final Answer: The specific word count for an introduction to machine learning is not readily available through the search results.\u001b[0m\n",
            "\n",
            "\u001b[1m> Finished chain.\u001b[0m\n",
            "The specific word count for an introduction to machine learning is not readily available through the search results.\n"
          ]
        }
      ]
    },
    {
      "cell_type": "code",
      "source": [
        "from googleapiclient.discovery import build\n",
        "from langchain.agents import tool\n",
        "\n",
        "# Define the YouTube API tool\n",
        "@tool\n",
        "def youtube_search(query: str) -> str:\n",
        "    \"\"\"\n",
        "    Search for YouTube videos based on a query.\n",
        "    Returns a list of video titles and URLs.\n",
        "    \"\"\"\n",
        "    api_key = userdata.get(\"YOUTUBE_API_KEY\")\n",
        "    youtube = build(\"youtube\", \"v3\", developerKey=api_key)\n",
        "\n",
        "    # Perform the search\n",
        "    search_response = youtube.search().list(\n",
        "        q=query,\n",
        "        part=\"snippet\",\n",
        "        maxResults=5\n",
        "    ).execute()\n",
        "\n",
        "    # Extract and format results\n",
        "    results = [\n",
        "        f\"{item['snippet']['title']} - https://www.youtube.com/watch?v={item['id']['videoId']}\"\n",
        "        for item in search_response.get(\"items\", [])\n",
        "        if item[\"id\"][\"kind\"] == \"youtube#video\"\n",
        "    ]\n",
        "    return \"\\n\".join(results) if results else \"No results found.\"\n"
      ],
      "metadata": {
        "id": "Em3wUNNn24vn"
      },
      "execution_count": null,
      "outputs": []
    },
    {
      "cell_type": "code",
      "source": [
        "# Add the YouTube search tool to the tools list\n",
        "tools.append(youtube_search)\n",
        "\n",
        "# Create a new agent with the YouTube search tool\n",
        "agent = create_react_agent(tools=tools, llm=llm, prompt=prompt)\n",
        "\n",
        "# Initialize the agent executor with the new agent and tools\n",
        "agent_executor = AgentExecutor(agent=agent, tools=tools, verbose=True, handle_parsing_errors=True)\n"
      ],
      "metadata": {
        "id": "U10GL0qf4QN4"
      },
      "execution_count": null,
      "outputs": []
    },
    {
      "cell_type": "code",
      "source": [
        "from langchain.agents import tool\n",
        "\n",
        "@tool\n",
        "def word_count(text: str) -> int:\n",
        "  \"\"\"Returns the word count.\"\"\"\n",
        "  return len(text.split())"
      ],
      "metadata": {
        "id": "8xqFIoAf5a_k"
      },
      "execution_count": null,
      "outputs": []
    },
    {
      "cell_type": "code",
      "source": [
        "# Add the custom tool to the list of tools\n",
        "tools.append(word_count)\n",
        "\n",
        "print(tools)"
      ],
      "metadata": {
        "colab": {
          "base_uri": "https://localhost:8080/"
        },
        "id": "TcoCjPYA5d1C",
        "outputId": "f9eb1a6f-e32e-4776-eacb-535c350288b8"
      },
      "execution_count": null,
      "outputs": [
        {
          "output_type": "stream",
          "name": "stdout",
          "text": [
            "[DuckDuckGoSearchRun(api_wrapper=DuckDuckGoSearchAPIWrapper(region='wt-wt', safesearch='moderate', time='y', max_results=5, backend='api', source='text')), OpenWeatherMapQueryRun(api_wrapper=OpenWeatherMapAPIWrapper(owm=<pyowm.owm.OWM - API key=************************bd5c55c8, subscription type=free, PyOWM version=(3, 3, 0)>, openweathermap_api_key=None)), StructuredTool(name='youtube_search', description='Search for YouTube videos based on a query.\\nReturns a list of video titles and URLs.', args_schema=<class 'langchain_core.utils.pydantic.youtube_search'>, func=<function youtube_search at 0x7c7424b9cdc0>), StructuredTool(name='word_count', description='Returns the word count.', args_schema=<class 'langchain_core.utils.pydantic.word_count'>, func=<function word_count at 0x7c744eb19c60>)]\n"
          ]
        }
      ]
    },
    {
      "cell_type": "code",
      "source": [
        "# Create a new agent with the DuckDuckGo search tool, OpenWeatherMap tool  and custom word count tool\n",
        "agent = create_react_agent(tools = tools, llm = llm, prompt=prompt)\n",
        "\n",
        "# Initialize the agent executor with the new agent and tools\n",
        "agent_executor = AgentExecutor(agent=agent, tools=tools, verbose=True, handle_parsing_errors=True)"
      ],
      "metadata": {
        "id": "K0dCnQtO5gG6"
      },
      "execution_count": null,
      "outputs": []
    },
    {
      "cell_type": "code",
      "source": [
        "response = agent_executor.invoke({\"input\": \"what is machine learning?\"})\n",
        "\n",
        "print(response['output'])"
      ],
      "metadata": {
        "colab": {
          "base_uri": "https://localhost:8080/"
        },
        "id": "sGJYrBK65ie6",
        "outputId": "2e76c1ec-48ef-4e81-8eb0-e7c5aec6dbd1"
      },
      "execution_count": null,
      "outputs": [
        {
          "output_type": "stream",
          "name": "stdout",
          "text": [
            "\n",
            "\n",
            "\u001b[1m> Entering new AgentExecutor chain...\u001b[0m\n",
            "\u001b[32;1m\u001b[1;3mI should search for a definition of machine learning to provide a clear explanation.\n",
            "Action: duckduckgo_search\n",
            "Action Input: \"definition of machine learning\"\u001b[0m\u001b[36;1m\u001b[1;3mLearn what machine learning is, how it works, and the different types of it powering the services and applications we rely on every day. Explore real-world examples, benefits and dangers, and beginner-friendly courses on Coursera. Machine learning is a branch of artificial intelligence that enables algorithms to learn from data and make predictions without explicit programming. Learn the difference between machine learning and traditional programming, the types of machine learning, the applications, and the limitations. The definition of machine learning can be defined as that machine learning gives computers the ability to learn without being explicitly programmed. Also in 1997, Tom Mitchell defined machine learning that \"A computer program is sa ... Machine learning is one of the most exciting technologies that one would have ever come across. As is ... Machine learning is a method of data analysis that automates analytical model building. It is a branch of artificial intelligence based on the idea that systems can learn from data, identify patterns and make decisions with minimal human intervention. Learn more about its types, algorithms, applications, and challenges. Learn what machine learning is, how it works, and why it's important in 2023. Explore the types, applications, and career paths of this AI subfield with DataCamp.\u001b[0m\u001b[32;1m\u001b[1;3mI now have a clear understanding of what machine learning is.\n",
            "Final Answer: Machine learning is a branch of artificial intelligence that enables algorithms to learn from data and make predictions without explicit programming.\u001b[0m\n",
            "\n",
            "\u001b[1m> Finished chain.\u001b[0m\n",
            "Machine learning is a branch of artificial intelligence that enables algorithms to learn from data and make predictions without explicit programming.\n"
          ]
        }
      ]
    },
    {
      "cell_type": "code",
      "source": [
        "response = agent_executor.invoke({\"input\": \"how many words count within broken angle song\"})\n",
        "\n",
        "print(response['output'])"
      ],
      "metadata": {
        "colab": {
          "base_uri": "https://localhost:8080/"
        },
        "id": "QT4UUwkj5k-x",
        "outputId": "9fef7071-9920-43d9-bf30-3e473ae60c32"
      },
      "execution_count": null,
      "outputs": [
        {
          "output_type": "stream",
          "name": "stdout",
          "text": [
            "\n",
            "\n",
            "\u001b[1m> Entering new AgentExecutor chain...\u001b[0m\n",
            "\u001b[32;1m\u001b[1;3mI should use the word_count tool to count the number of words in the song \"Broken Angle.\"\n",
            "Action: word_count\n",
            "Action Input: \"Broken Angle song lyrics\"\u001b[0m\u001b[36;1m\u001b[1;3m4\u001b[0m\u001b[32;1m\u001b[1;3mI now know the number of words in the song \"Broken Angle.\"\n",
            "Final Answer: 4 words\u001b[0m\n",
            "\n",
            "\u001b[1m> Finished chain.\u001b[0m\n",
            "4 words\n"
          ]
        }
      ]
    },
    {
      "cell_type": "code",
      "source": [
        "response = agent_executor.invoke({\"input\": \"what is the temperature of the city where 'lotus tower' is located?\"})\n",
        "\n",
        "print(response['output'])"
      ],
      "metadata": {
        "colab": {
          "base_uri": "https://localhost:8080/"
        },
        "id": "kCr218kW5ocq",
        "outputId": "42d2cace-a55a-4b83-9bd1-3969e4d640b5"
      },
      "execution_count": null,
      "outputs": [
        {
          "output_type": "stream",
          "name": "stdout",
          "text": [
            "\n",
            "\n",
            "\u001b[1m> Entering new AgentExecutor chain...\u001b[0m\n",
            "\u001b[32;1m\u001b[1;3mI should use the open_weather_map tool to find the temperature of the city where the Lotus Tower is located.\n",
            "Action: open_weather_map\n",
            "Action Input: Colombo, Sri Lanka\u001b[0m\u001b[33;1m\u001b[1;3mIn Colombo, Sri Lanka, the current weather is as follows:\n",
            "Detailed status: overcast clouds\n",
            "Wind speed: 1.92 m/s, direction: 21°\n",
            "Humidity: 78%\n",
            "Temperature: \n",
            "  - Current: 28.97°C\n",
            "  - High: 28.97°C\n",
            "  - Low: 28.97°C\n",
            "  - Feels like: 34.23°C\n",
            "Rain: {}\n",
            "Heat index: None\n",
            "Cloud cover: 93%\u001b[0m\u001b[32;1m\u001b[1;3mThe temperature of the city where the Lotus Tower is located is 28.97°C.\n",
            "Final Answer: 28.97°C\u001b[0m\n",
            "\n",
            "\u001b[1m> Finished chain.\u001b[0m\n",
            "28.97°C\n"
          ]
        }
      ]
    },
    {
      "cell_type": "code",
      "source": [
        "response = agent_executor.invoke({\"input\": \"machine learning sinhala \"})\n",
        "print(response['output'])"
      ],
      "metadata": {
        "colab": {
          "base_uri": "https://localhost:8080/"
        },
        "id": "Z3-JYAA64TEk",
        "outputId": "be38c5ef-c7df-4397-bfb4-acbbb2f28c6e"
      },
      "execution_count": null,
      "outputs": [
        {
          "output_type": "stream",
          "name": "stdout",
          "text": [
            "\n",
            "\n",
            "\u001b[1m> Entering new AgentExecutor chain...\u001b[0m\n",
            "\u001b[32;1m\u001b[1;3mI should search for information on machine learning in Sinhala language.\n",
            "Action: duckduckgo_search\n",
            "Action Input: machine learning sinhala\u001b[0m\u001b[36;1m\u001b[1;3mTrain Test Split in Machine Learning | Sinhalaඅපි සාමාන්‍යයෙන් Machine Learning Model එකක් train කරන්න කලින් Data Set එක ... One Hot Encoding in Machine Learning | Sinhala. Machine learning භාවිතා කරලා ගැටලුවක් විසඳන්න යනකොට අපි කරන ප්‍රධානම කාර්යය වන්නේ දත්ත එකතු කර ගන්න එක. ඒ දත්ත process කරන්න අවශ්‍යයි. grade 12 grade 13 MCQ Sinhala medium English medium lesson note unit 1 unit 2 unit 3 A/L ICT 🧠 Machine Learning 🧠 Automation පැත්තෙන් ඉස්සරහට යන්න? ඒත් AI නිසා ඔයාට Chance එකක් ලැබෙන එකක් නෑ කියලා බයද? 😨 ... (UI/UX) for Beginners in Sinhala:Batch 01 by Shiran Sanjeewa Weerasinghe. November 29, 2024. Digital Marketing with ... 🧠 Machine Learning 🧠 Automation පැත්තෙන් ඉස්සරහට යන්න? ඒත් AI නිසා ඔයාට Chance එකක් ලැබෙන එකක් නෑ කියලා බයද? 😨 ... Web Designing for Beginners with AI in Sinhala by Sanjaya Elvitigala & Nuwan Ratnayake.\u001b[0m\u001b[32;1m\u001b[1;3mI have found information on machine learning in Sinhala.\n",
            "Action: word_count\n",
            "Action Input: Train Test Split in Machine Learning | Sinhalaඅපි සාමාන්‍යයෙන් Machine Learning Model එකක් train කරන්න කලින් Data Set එක ... One Hot Encoding in Machine Learning | Sinhala. Machine learning භාවිතා කරලා ගැටලුවක් විසඳන්න යනකොට අපි කරන ප්‍රධානම කාර්යය වන්නේ දත්ත එකතු කර ගන්න එක. ඒ දත්ත process කරන්න අවශ්‍යයි. grade 12 grade 13 MCQ Sinhala medium English medium lesson note unit 1 unit 2 unit 3 A/L ICT 🧠 Machine Learning 🧠 Automation පැත්තෙන් ඉස්සරහට යන්න? ඒත් AI නිසා ඔයාට Chance එකක් ලැබෙන එකක් නෑ කියලා බයද? 😨 ... (UI/UX) for Beginners in Sinhala:Batch 01 by Shiran Sanjeewa Weerasinghe. November 29, 2024. Digital Marketing with ... 🧠 Machine Learning 🧠 Automation පැත්තෙන් ඉස්සරහට යන්න? ඒත් AI නිසා ඔයාට Chance එකක් ලැබෙන එකක් නෑ කියලා බයද? 😨 ... Web Designing for Beginners with AI in Sinhala by Sanjaya Elvitigala & Nuwan Ratnayake.\u001b[0m\u001b[36;1m\u001b[1;3m142\u001b[0m\u001b[32;1m\u001b[1;3mI now know the final answer\n",
            "Final Answer: The word count of the information on machine learning in Sinhala is 142.\u001b[0m\n",
            "\n",
            "\u001b[1m> Finished chain.\u001b[0m\n",
            "The word count of the information on machine learning in Sinhala is 142.\n"
          ]
        }
      ]
    },
    {
      "cell_type": "code",
      "source": [],
      "metadata": {
        "id": "0y67kN1t48US"
      },
      "execution_count": null,
      "outputs": []
    }
  ]
}